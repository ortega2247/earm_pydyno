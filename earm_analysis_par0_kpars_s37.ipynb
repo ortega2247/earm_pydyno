{
 "cells": [
  {
   "cell_type": "code",
   "execution_count": 1,
   "metadata": {},
   "outputs": [],
   "source": [
    "%load_ext autoreload\n",
    "%autoreload 2"
   ]
  },
  {
   "cell_type": "code",
   "execution_count": 36,
   "metadata": {},
   "outputs": [],
   "source": [
    "from earm2_flat import model\n",
    "from tropical.clusters_visualization import VisualizeClusters\n",
    "from tropical.discretize_path import DomPath\n",
    "from tropical.clustering import ClusterSequences\n",
    "from tropical.sequence_analysis import Sequences\n",
    "import numpy as np"
   ]
  },
  {
   "cell_type": "code",
   "execution_count": 3,
   "metadata": {},
   "outputs": [],
   "source": [
    "vc = VisualizeClusters(model, 'earm_scipyode_sims.h5', clusters=None)"
   ]
  },
  {
   "cell_type": "code",
   "execution_count": 4,
   "metadata": {},
   "outputs": [
    {
     "data": {
      "image/png": "[encoded data removed]",
      "text/plain": [
       "<Figure size 432x288 with 2 Axes>"
      ]
     },
     "metadata": {
      "needs_background": "light"
     },
     "output_type": "display_data"
    }
   ],
   "source": [
    "vc.plot_cluster_dynamics(species=['cPARP'], norm=False)"
   ]
  },
  {
   "cell_type": "code",
   "execution_count": 5,
   "metadata": {},
   "outputs": [],
   "source": [
    "dp = DomPath(model=model, simulations='earm_scipyode_sims.h5', type_analysis='consumption', \n",
    "             dom_om=0.5, target='s37', depth=1)"
   ]
  },
  {
   "cell_type": "code",
   "execution_count": 6,
   "metadata": {},
   "outputs": [
    {
     "name": "stdout",
     "output_type": "stream",
     "text": [
      "We're not done yet, 387 tasks to go!\n",
      "We're not done yet, 254 tasks to go!\n",
      "We're not done yet, 100 tasks to go!\n"
     ]
    }
   ],
   "source": [
    "signatures = dp.get_path_signatures(cpu_cores=100, verbose=True)"
   ]
  },
  {
   "cell_type": "code",
   "execution_count": 7,
   "metadata": {},
   "outputs": [],
   "source": [
    "signatures[0].to_csv('signatures_consumption_kpars_om05.csv')"
   ]
  },
  {
   "cell_type": "code",
   "execution_count": 8,
   "metadata": {},
   "outputs": [],
   "source": [
    "seq = Sequences(signatures[0])\n",
    "truncated_seqs = seq.truncate_sequences(49)"
   ]
  },
  {
   "cell_type": "code",
   "execution_count": 9,
   "metadata": {},
   "outputs": [
    {
     "data": {
      "text/plain": [
       "array([[ 0., 76., 98., ..., 96., 98., 76.],\n",
       "       [76.,  0., 98., ..., 90., 90., 36.],\n",
       "       [98., 98.,  0., ..., 96., 98., 98.],\n",
       "       ...,\n",
       "       [96., 90., 96., ...,  0., 74., 80.],\n",
       "       [98., 90., 98., ..., 74.,  0., 56.],\n",
       "       [76., 36., 98., ..., 80., 56.,  0.]])"
      ]
     },
     "execution_count": 9,
     "metadata": {},
     "output_type": "execute_result"
    }
   ],
   "source": [
    "truncated_seqs.dissimilarity_matrix(n_jobs=100)"
   ]
  },
  {
   "cell_type": "code",
   "execution_count": 10,
   "metadata": {},
   "outputs": [],
   "source": [
    "cs = ClusterSequences(truncated_seqs)"
   ]
  },
  {
   "cell_type": "code",
   "execution_count": 11,
   "metadata": {},
   "outputs": [
    {
     "data": {
      "text/html": [
       "<div>\n",
       "<style scoped>\n",
       "    .dataframe tbody tr th:only-of-type {\n",
       "        vertical-align: middle;\n",
       "    }\n",
       "\n",
       "    .dataframe tbody tr th {\n",
       "        vertical-align: top;\n",
       "    }\n",
       "\n",
       "    .dataframe thead th {\n",
       "        text-align: right;\n",
       "    }\n",
       "</style>\n",
       "<table border=\"1\" class=\"dataframe\">\n",
       "  <thead>\n",
       "    <tr style=\"text-align: right;\">\n",
       "      <th></th>\n",
       "      <th>num_clusters</th>\n",
       "      <th>cluster_silhouette</th>\n",
       "    </tr>\n",
       "  </thead>\n",
       "  <tbody>\n",
       "    <tr>\n",
       "      <th>0</th>\n",
       "      <td>2</td>\n",
       "      <td>0.204583</td>\n",
       "    </tr>\n",
       "    <tr>\n",
       "      <th>1</th>\n",
       "      <td>3</td>\n",
       "      <td>0.266186</td>\n",
       "    </tr>\n",
       "    <tr>\n",
       "      <th>2</th>\n",
       "      <td>4</td>\n",
       "      <td>0.313221</td>\n",
       "    </tr>\n",
       "    <tr>\n",
       "      <th>3</th>\n",
       "      <td>5</td>\n",
       "      <td>0.368302</td>\n",
       "    </tr>\n",
       "    <tr>\n",
       "      <th>4</th>\n",
       "      <td>6</td>\n",
       "      <td>0.430911</td>\n",
       "    </tr>\n",
       "    <tr>\n",
       "      <th>5</th>\n",
       "      <td>7</td>\n",
       "      <td>0.447373</td>\n",
       "    </tr>\n",
       "    <tr>\n",
       "      <th>6</th>\n",
       "      <td>8</td>\n",
       "      <td>0.466530</td>\n",
       "    </tr>\n",
       "    <tr>\n",
       "      <th>7</th>\n",
       "      <td>9</td>\n",
       "      <td>0.413508</td>\n",
       "    </tr>\n",
       "    <tr>\n",
       "      <th>8</th>\n",
       "      <td>10</td>\n",
       "      <td>0.482042</td>\n",
       "    </tr>\n",
       "    <tr>\n",
       "      <th>9</th>\n",
       "      <td>11</td>\n",
       "      <td>0.424060</td>\n",
       "    </tr>\n",
       "    <tr>\n",
       "      <th>10</th>\n",
       "      <td>12</td>\n",
       "      <td>0.444258</td>\n",
       "    </tr>\n",
       "    <tr>\n",
       "      <th>11</th>\n",
       "      <td>13</td>\n",
       "      <td>0.420245</td>\n",
       "    </tr>\n",
       "    <tr>\n",
       "      <th>12</th>\n",
       "      <td>14</td>\n",
       "      <td>0.395549</td>\n",
       "    </tr>\n",
       "    <tr>\n",
       "      <th>13</th>\n",
       "      <td>15</td>\n",
       "      <td>0.400146</td>\n",
       "    </tr>\n",
       "    <tr>\n",
       "      <th>14</th>\n",
       "      <td>16</td>\n",
       "      <td>0.394157</td>\n",
       "    </tr>\n",
       "    <tr>\n",
       "      <th>15</th>\n",
       "      <td>17</td>\n",
       "      <td>0.390214</td>\n",
       "    </tr>\n",
       "    <tr>\n",
       "      <th>16</th>\n",
       "      <td>18</td>\n",
       "      <td>0.395605</td>\n",
       "    </tr>\n",
       "    <tr>\n",
       "      <th>17</th>\n",
       "      <td>19</td>\n",
       "      <td>0.371564</td>\n",
       "    </tr>\n",
       "    <tr>\n",
       "      <th>18</th>\n",
       "      <td>20</td>\n",
       "      <td>0.374798</td>\n",
       "    </tr>\n",
       "  </tbody>\n",
       "</table>\n",
       "</div>"
      ],
      "text/plain": [
       "    num_clusters  cluster_silhouette\n",
       "0              2            0.204583\n",
       "1              3            0.266186\n",
       "2              4            0.313221\n",
       "3              5            0.368302\n",
       "4              6            0.430911\n",
       "5              7            0.447373\n",
       "6              8            0.466530\n",
       "7              9            0.413508\n",
       "8             10            0.482042\n",
       "9             11            0.424060\n",
       "10            12            0.444258\n",
       "11            13            0.420245\n",
       "12            14            0.395549\n",
       "13            15            0.400146\n",
       "14            16            0.394157\n",
       "15            17            0.390214\n",
       "16            18            0.395605\n",
       "17            19            0.371564\n",
       "18            20            0.374798"
      ]
     },
     "execution_count": 11,
     "metadata": {},
     "output_type": "execute_result"
    }
   ],
   "source": [
    "cs.silhouette_score_spectral_range(cluster_range=20, n_jobs=100)"
   ]
  },
  {
   "cell_type": "code",
   "execution_count": 12,
   "metadata": {},
   "outputs": [
    {
     "data": {
      "text/html": [
       "<div>\n",
       "<style scoped>\n",
       "    .dataframe tbody tr th:only-of-type {\n",
       "        vertical-align: middle;\n",
       "    }\n",
       "\n",
       "    .dataframe tbody tr th {\n",
       "        vertical-align: top;\n",
       "    }\n",
       "\n",
       "    .dataframe thead th {\n",
       "        text-align: right;\n",
       "    }\n",
       "</style>\n",
       "<table border=\"1\" class=\"dataframe\">\n",
       "  <thead>\n",
       "    <tr style=\"text-align: right;\">\n",
       "      <th></th>\n",
       "      <th>num_clusters</th>\n",
       "      <th>cluster_silhouette</th>\n",
       "    </tr>\n",
       "  </thead>\n",
       "  <tbody>\n",
       "    <tr>\n",
       "      <th>0</th>\n",
       "      <td>2</td>\n",
       "      <td>0.125961</td>\n",
       "    </tr>\n",
       "    <tr>\n",
       "      <th>1</th>\n",
       "      <td>3</td>\n",
       "      <td>0.144377</td>\n",
       "    </tr>\n",
       "    <tr>\n",
       "      <th>2</th>\n",
       "      <td>4</td>\n",
       "      <td>0.142735</td>\n",
       "    </tr>\n",
       "    <tr>\n",
       "      <th>3</th>\n",
       "      <td>5</td>\n",
       "      <td>0.140848</td>\n",
       "    </tr>\n",
       "    <tr>\n",
       "      <th>4</th>\n",
       "      <td>6</td>\n",
       "      <td>0.235291</td>\n",
       "    </tr>\n",
       "    <tr>\n",
       "      <th>5</th>\n",
       "      <td>7</td>\n",
       "      <td>0.241033</td>\n",
       "    </tr>\n",
       "    <tr>\n",
       "      <th>6</th>\n",
       "      <td>8</td>\n",
       "      <td>0.238286</td>\n",
       "    </tr>\n",
       "    <tr>\n",
       "      <th>7</th>\n",
       "      <td>9</td>\n",
       "      <td>0.321680</td>\n",
       "    </tr>\n",
       "    <tr>\n",
       "      <th>8</th>\n",
       "      <td>10</td>\n",
       "      <td>0.321949</td>\n",
       "    </tr>\n",
       "    <tr>\n",
       "      <th>9</th>\n",
       "      <td>11</td>\n",
       "      <td>0.321675</td>\n",
       "    </tr>\n",
       "    <tr>\n",
       "      <th>10</th>\n",
       "      <td>12</td>\n",
       "      <td>0.321733</td>\n",
       "    </tr>\n",
       "    <tr>\n",
       "      <th>11</th>\n",
       "      <td>13</td>\n",
       "      <td>0.320943</td>\n",
       "    </tr>\n",
       "    <tr>\n",
       "      <th>12</th>\n",
       "      <td>14</td>\n",
       "      <td>0.329978</td>\n",
       "    </tr>\n",
       "    <tr>\n",
       "      <th>13</th>\n",
       "      <td>15</td>\n",
       "      <td>0.325372</td>\n",
       "    </tr>\n",
       "    <tr>\n",
       "      <th>14</th>\n",
       "      <td>16</td>\n",
       "      <td>0.328479</td>\n",
       "    </tr>\n",
       "    <tr>\n",
       "      <th>15</th>\n",
       "      <td>17</td>\n",
       "      <td>0.381869</td>\n",
       "    </tr>\n",
       "    <tr>\n",
       "      <th>16</th>\n",
       "      <td>18</td>\n",
       "      <td>0.388216</td>\n",
       "    </tr>\n",
       "    <tr>\n",
       "      <th>17</th>\n",
       "      <td>19</td>\n",
       "      <td>0.400264</td>\n",
       "    </tr>\n",
       "    <tr>\n",
       "      <th>18</th>\n",
       "      <td>20</td>\n",
       "      <td>0.401626</td>\n",
       "    </tr>\n",
       "  </tbody>\n",
       "</table>\n",
       "</div>"
      ],
      "text/plain": [
       "    num_clusters  cluster_silhouette\n",
       "0              2            0.125961\n",
       "1              3            0.144377\n",
       "2              4            0.142735\n",
       "3              5            0.140848\n",
       "4              6            0.235291\n",
       "5              7            0.241033\n",
       "6              8            0.238286\n",
       "7              9            0.321680\n",
       "8             10            0.321949\n",
       "9             11            0.321675\n",
       "10            12            0.321733\n",
       "11            13            0.320943\n",
       "12            14            0.329978\n",
       "13            15            0.325372\n",
       "14            16            0.328479\n",
       "15            17            0.381869\n",
       "16            18            0.388216\n",
       "17            19            0.400264\n",
       "18            20            0.401626"
      ]
     },
     "execution_count": 12,
     "metadata": {},
     "output_type": "execute_result"
    }
   ],
   "source": [
    "cs.silhouette_score_agglomerative_range(cluster_range=20, n_jobs=100)"
   ]
  },
  {
   "cell_type": "code",
   "execution_count": 15,
   "metadata": {},
   "outputs": [],
   "source": [
    "cs.agglomerative_clustering(n_clusters=10)"
   ]
  },
  {
   "cell_type": "code",
   "execution_count": 17,
   "metadata": {},
   "outputs": [
    {
     "data": {
      "image/png": "[encoded data removed]",
      "text/plain": [
       "<Figure size 576x432 with 12 Axes>"
      ]
     },
     "metadata": {
      "needs_background": "light"
     },
     "output_type": "display_data"
    }
   ],
   "source": [
    "truncated_seqs.plot_sequences(type_fig='modal', cluster_labels=cs.labels, filename='modal_clusters_kpar')"
   ]
  },
  {
   "cell_type": "code",
   "execution_count": 44,
   "metadata": {},
   "outputs": [
    {
     "name": "stdout",
     "output_type": "stream",
     "text": [
      "cluster 0\n",
      "{'order': 0, 'name': 's37', 'children': [{'order': 1, 'name': 's41'}, {'order': 1, 'name': 's43'}, {'order': 1, 'name': 's44'}]}\n",
      "(array([ 187,  330,  336,  469,  559,  591,  618,  621,  648,  792, 1184,\n",
      "       1187, 1242, 1272, 1320, 1373, 1758, 1797, 1840, 1849, 1861, 1888,\n",
      "       1988, 2049, 2097, 2145, 2146, 2222, 2295, 2305, 2307, 2364, 2429,\n",
      "       2518, 2673, 2815, 2862, 2909, 3021, 3060, 3070, 3204, 3237, 3302,\n",
      "       3613, 3680, 3714, 3846, 3922, 3960, 3995, 4067, 4101, 4107, 4306,\n",
      "       4438, 4536, 4542, 4569, 4847, 4848, 4857, 4904, 4976, 5002, 5071,\n",
      "       5084, 5401, 5513, 5680, 5761, 5776, 5863, 5906, 5955, 6045, 6128,\n",
      "       6141, 6152, 6185, 6285, 6362, 6390, 6391, 6404, 6456, 6513]),)\n",
      "\n",
      "\n",
      "cluster 1\n",
      "{'order': 0, 'name': 's37', 'children': [{'order': 1, 'name': 's43'}, {'order': 1, 'name': 's44'}, {'order': 1, 'name': 's45'}]}\n",
      "(array([  30,   83,  212,  282,  502,  533, 1058, 1458, 1739, 1880, 1974,\n",
      "       2043, 2522, 3257, 3258, 3312, 3513, 3700, 3924, 3993, 4052, 4143,\n",
      "       4244, 4862, 4952, 5068, 5711]),)\n",
      "\n",
      "\n",
      "cluster 2\n",
      "{'order': 0, 'name': 's37', 'children': [{'order': 1, 'name': 's41'}, {'order': 1, 'name': 's43'}, {'order': 1, 'name': 's45'}]}\n",
      "(array([   3,   15,   53,   69,  132,  253,  292,  338,  342,  384,  408,\n",
      "        437,  453,  476,  491,  519,  637,  663,  711,  814,  902,  952,\n",
      "        991, 1039, 1213, 1357, 1459, 1486, 1519, 1562, 1759, 1826, 1855,\n",
      "       1871, 2041, 2115, 2141, 2169, 2214, 2224, 2241, 2243, 2260, 2486,\n",
      "       2516, 2520, 2555, 2567, 2606, 2650, 2726, 2728, 2745, 2770, 2881,\n",
      "       2907, 3062, 3153, 3202, 3224, 3233, 3249, 3267, 3316, 3340, 3354,\n",
      "       3410, 3461, 3481, 3486, 3498, 3562, 3571, 3599, 3635, 3638, 3642,\n",
      "       3695, 3825, 3978, 3991, 3999, 4046, 4140, 4185, 4199, 4253, 4301,\n",
      "       4336, 4430, 4492, 4525, 4577, 4578, 4586, 4604, 4637, 4647, 4657,\n",
      "       4659, 4713, 4828, 4892, 4893, 4908, 4922, 4933, 4954, 4955, 4961,\n",
      "       4978, 5186, 5336, 5340, 5367, 5590, 5607, 5642, 5753, 5817, 5826,\n",
      "       5828, 6014, 6067, 6103, 6165, 6284, 6303, 6346, 6538, 6561]),)\n",
      "\n",
      "\n",
      "cluster 3\n",
      "{'order': 0, 'name': 's37', 'children': [{'order': 1, 'name': 's45'}]}\n",
      "(array([   9,   12,   33, ..., 6557, 6560, 6566]),)\n",
      "\n",
      "\n",
      "cluster 4\n",
      "{'order': 0, 'name': 's37', 'children': [{'order': 1, 'name': 's41'}]}\n",
      "(array([   5,    7,    8, ..., 6565, 6568, 6569]),)\n",
      "\n",
      "\n",
      "cluster 5\n",
      "{'order': 0, 'name': 's37', 'children': [{'order': 1, 'name': 's41'}, {'order': 1, 'name': 's44'}]}\n",
      "(array([   0,    1,    4, ..., 6567, 6570, 6571]),)\n",
      "\n",
      "\n",
      "cluster 6\n",
      "{'order': 0, 'name': 's37', 'children': [{'order': 1, 'name': 's43'}]}\n",
      "(array([   2,    6,   45,   46,   61,   66,   72,   74,   79,   81,   87,\n",
      "        101,  114,  115,  121,  131,  135,  136,  141,  170,  172,  173,\n",
      "        179,  188,  197,  207,  217,  218,  260,  279,  287,  308,  310,\n",
      "        325,  326,  357,  359,  361,  365,  369,  379,  383,  388,  402,\n",
      "        405,  416,  419,  456,  457,  472,  478,  489,  508,  516,  534,\n",
      "        569,  573,  575,  639,  649,  727,  743,  770,  776,  778,  804,\n",
      "        805,  806,  820,  834,  856,  889,  896,  911,  915,  920,  922,\n",
      "        924,  925,  926,  928,  951,  960,  977,  978,  980,  987,  988,\n",
      "       1044, 1045, 1051, 1053, 1083, 1089, 1106, 1108, 1130, 1149, 1155,\n",
      "       1156, 1180, 1227, 1235, 1250, 1294, 1305, 1311, 1323, 1352, 1369,\n",
      "       1375, 1392, 1409, 1410, 1418, 1434, 1462, 1490, 1503, 1515, 1537,\n",
      "       1558, 1565, 1574, 1595, 1605, 1613, 1616, 1626, 1634, 1639, 1688,\n",
      "       1704, 1715, 1763, 1769, 1775, 1776, 1781, 1817, 1824, 1833, 1836,\n",
      "       1874, 1886, 1887, 1903, 1933, 1951, 1959, 1979, 1986, 2008, 2010,\n",
      "       2036, 2062, 2094, 2099, 2106, 2112, 2123, 2147, 2156, 2173, 2175,\n",
      "       2192, 2193, 2200, 2225, 2298, 2302, 2319, 2321, 2323, 2354, 2362,\n",
      "       2430, 2450, 2456, 2473, 2501, 2517, 2536, 2562, 2563, 2594, 2596,\n",
      "       2665, 2689, 2696, 2709, 2716, 2725, 2733, 2737, 2760, 2762, 2788,\n",
      "       2800, 2832, 2853, 2896, 2905, 2910, 2923, 2926, 2933, 2942, 2945,\n",
      "       2958, 2979, 3013, 3026, 3028, 3046, 3055, 3058, 3069, 3087, 3102,\n",
      "       3118, 3123, 3141, 3182, 3185, 3190, 3198, 3227, 3236, 3255, 3271,\n",
      "       3315, 3330, 3369, 3374, 3379, 3390, 3515, 3517, 3547, 3582, 3593,\n",
      "       3614, 3618, 3648, 3666, 3701, 3716, 3750, 3762, 3776, 3777, 3799,\n",
      "       3815, 3842, 3861, 3898, 3905, 3910, 3937, 3943, 3952, 3966, 3976,\n",
      "       3982, 4017, 4020, 4022, 4039, 4099, 4102, 4127, 4162, 4168, 4196,\n",
      "       4205, 4216, 4234, 4249, 4351, 4390, 4399, 4402, 4416, 4432, 4453,\n",
      "       4468, 4480, 4484, 4518, 4527, 4532, 4544, 4601, 4618, 4624, 4642,\n",
      "       4658, 4669, 4680, 4706, 4716, 4723, 4739, 4776, 4783, 4793, 4840,\n",
      "       4863, 4878, 4883, 4885, 4886, 4894, 4911, 4912, 4927, 4929, 4958,\n",
      "       4959, 4980, 5001, 5027, 5049, 5075, 5117, 5131, 5138, 5171, 5191,\n",
      "       5247, 5277, 5278, 5289, 5311, 5316, 5330, 5332, 5339, 5343, 5346,\n",
      "       5366, 5372, 5374, 5400, 5410, 5445, 5454, 5461, 5473, 5496, 5512,\n",
      "       5527, 5555, 5613, 5618, 5664, 5683, 5686, 5717, 5723, 5740, 5760,\n",
      "       5771, 5774, 5810, 5861, 5864, 5867, 5878, 5905, 5909, 5948, 5985,\n",
      "       5990, 5998, 6019, 6023, 6071, 6093, 6105, 6130, 6153, 6163, 6171,\n",
      "       6183, 6220, 6224, 6244, 6246, 6269, 6286, 6288, 6299, 6300, 6309,\n",
      "       6321, 6338, 6348, 6353, 6366, 6393, 6394, 6424, 6458, 6485, 6498,\n",
      "       6534, 6544, 6554]),)\n",
      "\n",
      "\n",
      "cluster 7\n",
      "{'order': 0, 'name': 's37', 'children': [{'order': 1, 'name': 's42'}]}\n",
      "(array([  59,  283,  768,  895, 1096, 1177, 1309, 1453, 1488, 1492, 1656,\n",
      "       1786, 1801, 2088, 2152, 2245, 2318, 2675, 2752, 2876, 3433, 3949,\n",
      "       4332, 4447, 4755, 4773, 5076, 5188, 5811, 6063, 6229, 6278, 6345]),)\n",
      "\n",
      "\n",
      "cluster 8\n",
      "{'order': 0, 'name': 's37', 'children': [{'order': 1, 'name': 's41'}, {'order': 1, 'name': 's44'}, {'order': 1, 'name': 's45'}]}\n",
      "(array([  22,   63,  129,  130,  178,  191,  215,  276,  344,  393,  412,\n",
      "        435,  475,  563,  651,  674,  757, 1005, 1030, 1195, 1197, 1208,\n",
      "       1243, 1347, 1374, 1521, 1609, 1665, 1676, 1755, 1809, 1929, 2028,\n",
      "       2050, 2118, 2215, 2250, 2263, 2340, 2377, 2405, 2492, 2506, 2521,\n",
      "       2546, 2572, 2681, 2723, 2809, 2852, 2861, 2883, 2900, 2997, 3051,\n",
      "       3064, 3083, 3194, 3211, 3391, 3500, 3556, 3640, 3690, 3766, 3804,\n",
      "       3851, 3926, 3961, 4007, 4089, 4144, 4161, 4235, 4270, 4289, 4299,\n",
      "       4339, 4372, 4441, 4540, 4546, 4552, 4563, 4587, 4603, 4605, 4690,\n",
      "       4786, 4880, 4884, 4890, 4953, 5044, 5166, 5181, 5200, 5225, 5251,\n",
      "       5258, 5426, 5493, 5517, 5565, 5598, 5654, 5691, 5806, 5831, 5844,\n",
      "       5879, 5889, 5926, 5942, 5966, 6022, 6058, 6061, 6075, 6078, 6096,\n",
      "       6144, 6228, 6235, 6294, 6322, 6328, 6437, 6537]),)\n",
      "\n",
      "\n",
      "cluster 9\n",
      "{'order': 0, 'name': 's37', 'children': [{'order': 1, 'name': 's42'}, {'order': 1, 'name': 's44'}, {'order': 1, 'name': 's45'}]}\n",
      "(array([  78,  113,  142,  246,  596,  642,  791,  812,  973,  990, 1066,\n",
      "       1205, 1215, 1219, 1299, 1324, 1332, 1342, 1623, 1734, 1744, 1866,\n",
      "       1878, 1889, 2125, 2131, 2221, 2267, 2284, 2346, 2366, 2384, 2451,\n",
      "       2472, 2549, 2608, 2618, 2635, 2638, 2730, 2748, 2757, 2787, 3024,\n",
      "       3268, 3305, 3356, 3587, 3652, 3693, 3699, 3719, 3866, 3893, 3907,\n",
      "       3986, 4001, 4073, 4088, 4170, 4337, 4352, 4387, 4469, 4592, 4694,\n",
      "       4853, 4902, 4948, 5006, 5017, 5128, 5152, 5183, 5290, 5379, 5499,\n",
      "       5542, 5576, 5822, 5837, 5882, 5958, 5992, 6247, 6267, 6297, 6307,\n",
      "       6314, 6369, 6401, 6440, 6499, 6541]),)\n",
      "\n",
      "\n"
     ]
    }
   ],
   "source": [
    "print('cluster 0')\n",
    "print(signatures[1][32])\n",
    "print(np.where(cs.labels==0))\n",
    "print('\\n')\n",
    "print('cluster 1')\n",
    "print(signatures[1][44])\n",
    "print(np.where(cs.labels==1))\n",
    "print('\\n')\n",
    "print('cluster 2')\n",
    "print(signatures[1][33])\n",
    "print(np.where(cs.labels==2))\n",
    "print('\\n')\n",
    "print('cluster 3')\n",
    "print(signatures[1][5])\n",
    "print(np.where(cs.labels==3))\n",
    "print('\\n')\n",
    "print('cluster 4')\n",
    "print(signatures[1][1])\n",
    "print(np.where(cs.labels==4))\n",
    "print('\\n')\n",
    "print('cluster 5')\n",
    "print(signatures[1][12])\n",
    "print(np.where(cs.labels==5))\n",
    "print('\\n')\n",
    "print('cluster 6')\n",
    "print(signatures[1][3])\n",
    "print(np.where(cs.labels==6))\n",
    "print('\\n')\n",
    "print('cluster 7')\n",
    "print(signatures[1][2])\n",
    "print(np.where(cs.labels==7))\n",
    "print('\\n')\n",
    "print('cluster 8')\n",
    "print(signatures[1][35])\n",
    "print(np.where(cs.labels==8))\n",
    "print('\\n')\n",
    "print('cluster 9')\n",
    "print(signatures[1][41])\n",
    "print(np.where(cs.labels==9))\n",
    "print('\\n')"
   ]
  },
  {
   "cell_type": "code",
   "execution_count": 46,
   "metadata": {},
   "outputs": [
    {
     "data": {
      "text/plain": [
       "Bcl2(bf=1, state='M') % Bid(bf=1, state='M')"
      ]
     },
     "execution_count": 46,
     "metadata": {},
     "output_type": "execute_result"
    }
   ],
   "source": [
    "model.species[43]"
   ]
  },
  {
   "cell_type": "code",
   "execution_count": null,
   "metadata": {},
   "outputs": [],
   "source": []
  }
 ],
 "metadata": {
  "kernelspec": {
   "display_name": "Python 3",
   "language": "python",
   "name": "python3"
  },
  "language_info": {
   "codemirror_mode": {
    "name": "ipython",
    "version": 3
   },
   "file_extension": ".py",
   "mimetype": "text/x-python",
   "name": "python",
   "nbconvert_exporter": "python",
   "pygments_lexer": "ipython3",
   "version": "3.7.2"
  }
 },
 "nbformat": 4,
 "nbformat_minor": 2
}
